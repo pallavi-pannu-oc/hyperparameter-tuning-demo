{
 "cells": [
  {
   "cell_type": "code",
   "execution_count": null,
   "metadata": {},
   "outputs": [],
   "source": [
    "import os,sys\n",
    "import kfp\n",
    "import json"
   ]
  },
  {
   "cell_type": "code",
   "execution_count": null,
   "metadata": {},
   "outputs": [],
   "source": [
    "components_url = \"/mnt/dkube/pipeline/components/\"\n",
    "dkube_training_op = kfp.components.load_component_from_file(components_url + \"training/component.yaml\")\n",
    "dkube_serving_op = kfp.components.load_component_from_file(components_url + \"serving/component.yaml\")\n",
    "token = os.getenv(\"DKUBE_USER_ACCESS_TOKEN\")\n",
    "client = kfp.Client(host=os.getenv(\"KF_PIPELINES_ENDPOINT\"), existing_token=token, namespace=os.getenv(\"USERNAME\"))"
   ]
  },
  {
   "cell_type": "code",
   "execution_count": null,
   "metadata": {},
   "outputs": [],
   "source": [
    "with open(\"tuning.json\", \"r\") as read_it:\n",
    "     data = json.load(read_it)"
   ]
  },
  {
   "cell_type": "code",
   "execution_count": null,
   "metadata": {},
   "outputs": [],
   "source": [
    "@kfp.dsl.pipeline(\n",
    "    name='dkube-mnist-pl',\n",
    "    description='sample mnist pipeline with dkube components'\n",
    ")\n",
    "def mnist_pipeline(program='dkube-examples', dataset='mnist', model='mnist'):\n",
    "\n",
    "    train       = dkube_training_op(container='{\"image\":\"ocdr/dkube-datascience-tf-cpu:v2.0.0\"}',\n",
    "                                    framework=\"tensorflow\", version=\"2.0.0\",\n",
    "                                    program=str(program), run_script=\"python mnist/train.py\",\n",
    "                                    datasets=json.dumps([str(dataset)]), outputs=json.dumps([str(model)]),\n",
    "                                    input_dataset_mounts='[\"/mnist\"]',\n",
    "                                    output_mounts='[\"/model\"]',\n",
    "                                    envs='[{\"EPOCHS\": \"1\"}]',\n",
    "                                    tuning = json.dumps(data),\n",
    "                                    auth_token=token)\n",
    "\n",
    "    serving     = dkube_serving_op(model=train.outputs['artifact'], device='cpu', \n",
    "                                    serving_image='{\"image\":\"ocdr/tensorflowserver:2.0.0\"}',\n",
    "                                    transformer_image='{\"image\":\"ocdr/dkube-datascience-tf-cpu:v2.0.0\"}',\n",
    "                                    transformer_project=str(program),\n",
    "                                    transformer_code='mnist/transformer.py', auth_token=token).after(train)\n",
    "    "
   ]
  },
  {
   "cell_type": "code",
   "execution_count": null,
   "metadata": {},
   "outputs": [],
   "source": [
    "client.create_run_from_pipeline_func(mnist_pipeline, arguments={})"
   ]
  },
  {
   "cell_type": "code",
   "execution_count": null,
   "metadata": {},
   "outputs": [],
   "source": [
    "#generate & upload pipeline (Optional)\n",
    "import kfp.compiler as compiler\n",
    "compiler.Compiler().compile(mnist_pipeline, \"mnist-pipeline-tuning-demo.zip\")\n",
    "client.upload_pipeline(\"mnist-pipeline-tuning-demo.zip\")"
   ]
  }
 ],
 "metadata": {
  "kernelspec": {
   "display_name": "Python 3",
   "language": "python",
   "name": "python3"
  },
  "language_info": {
   "codemirror_mode": {
    "name": "ipython",
    "version": 3
   },
   "file_extension": ".py",
   "mimetype": "text/x-python",
   "name": "python",
   "nbconvert_exporter": "python",
   "pygments_lexer": "ipython3",
   "version": "3.6.8"
  }
 },
 "nbformat": 4,
 "nbformat_minor": 4
}
